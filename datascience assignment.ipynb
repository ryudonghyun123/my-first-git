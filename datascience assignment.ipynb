{
 "cells": [
  {
   "cell_type": "code",
   "execution_count": 46,
   "id": "b1c81009",
   "metadata": {},
   "outputs": [],
   "source": [
    "# Node 클래스 정의\n",
    "class Node:\n",
    "\tdef __init__(self, data):\n",
    "\t\tself.data = data\n",
    "\t\tself.next = None\n",
    "\n",
    "\n",
    "# LinkedList 클래스 정의\n",
    "class LinkedList:\n",
    "\n",
    "\t# 초기화 메소드\n",
    "\tdef __init__(self):\n",
    "\t\tdummy = Node(\"dummy\")\n",
    "\t\tself.head = dummy\n",
    "\t\tself.tail = dummy\n",
    "\n",
    "\t\tself.current = None\n",
    "\t\tself.before = None\n",
    "\n",
    "\t\tself.num_of_data = 0\n",
    "\n",
    "\t# append 메소드 (insert - 맨 뒤에 노드 추가, tail과 node의 next, 데이터 개수 변경)\n",
    "\tdef append(self, data):\n",
    "\t\tnew_node = Node(data)\n",
    "\t\tself.tail.next = new_node\n",
    "\t\tself.tail = new_node\n",
    "\n",
    "\t\tself.num_of_data += 1\n",
    "\n",
    "\t# delete 메소드 (delete - current 노드 삭제, 인접 노드의 current, next 변경, 데이터 개수 변경)\n",
    "\tdef delete(self):\n",
    "\t\tpop_data = self.current.data\n",
    "\n",
    "\t\tif self.current is self.tail:\n",
    "\t\t\tself.tail = self.before\n",
    "\n",
    "\t\t\t# 중요 : current가 next가 아닌 before로 변경된다.\n",
    "\t\t\tself.before.next = self.current.next\n",
    "\t\t\tself.current = self.before \n",
    "\n",
    "\t\t\tself.num_of_data -= 1\n",
    "\n",
    "\t\t\treturn pop_data\n",
    "\n",
    "\t# first 메소드 (search1 - 맨 앞의 노드 검색, before, current 변경)\n",
    "\tdef first(self):\n",
    "\t\t# 데이터가 없는 경우 첫번째 노드도 없기 때문에 None 리턴\n",
    "\t\tif self.num_of_data == 0: \n",
    "\t\t\treturn None\n",
    "\n",
    "\t\tself.before = self.head\n",
    "\t\tself.current = self.head.next\n",
    "\n",
    "\t\treturn self.current.data\n",
    "\n",
    "\t# next 메소드 (search2 - current 노드의 다음 노드 검색, 이전에 first 메소드가 한번은 실행되어야 함)\n",
    "\tdef next(self):\n",
    "\t\tif self.current.next == None:\n",
    "\t\t\treturn None\n",
    "\n",
    "\t\tself.before = self.current\n",
    "\t\tself.current = self.current.next\n",
    "\n",
    "\t\treturn self.current.data\n",
    "\n",
    "\t# size 메소드\n",
    "\tdef size(self):\n",
    "\t\treturn self.num_of_data \n"
   ]
  },
  {
   "cell_type": "markdown",
   "id": "cdc77353",
   "metadata": {},
   "source": [
    "# 202001273 통계학과 류동현 과제 제출"
   ]
  },
  {
   "cell_type": "markdown",
   "id": "24959161",
   "metadata": {},
   "source": [
    "# Traverse_all()"
   ]
  },
  {
   "cell_type": "code",
   "execution_count": 47,
   "id": "e642d2a7",
   "metadata": {},
   "outputs": [],
   "source": [
    "def traverse_all(head):\n",
    "    \n",
    "    current = head\n",
    "    output = \"head -> \"\n",
    "    while current is not None:\n",
    "        output += str(current.data) + \" -> \"\n",
    "        current = current.next\n",
    "    output += \"null\"\n",
    "    print(output)\n",
    "\n",
    "# 연결된 목록    \n",
    "# Node 1 with data 100\n",
    "node1 = Node(100)\n",
    "# Node 2 with data 72\n",
    "node2 = Node(72)\n",
    "# Node 3 with data 325\n",
    "node3 = Node(325)\n",
    "\n",
    "# nodes를 연결: node1 -> node2 -> node3\n",
    "node1.next = node2\n",
    "node2.next = node3"
   ]
  },
  {
   "cell_type": "code",
   "execution_count": 48,
   "id": "94b0e655",
   "metadata": {},
   "outputs": [
    {
     "name": "stdout",
     "output_type": "stream",
     "text": [
      "head -> 100 -> 72 -> 325 -> null\n"
     ]
    }
   ],
   "source": [
    "traverse_all(node1)"
   ]
  },
  {
   "cell_type": "markdown",
   "id": "0a22eb53",
   "metadata": {},
   "source": [
    "# Insert_at(position,new_data)"
   ]
  },
  {
   "cell_type": "code",
   "execution_count": 56,
   "id": "92ab7d00",
   "metadata": {},
   "outputs": [],
   "source": [
    "def insert_at(position, new_data, head):\n",
    "    \n",
    "    if position <= 0:\n",
    "        print(\"Error\")\n",
    "        return\n",
    "    new_node = Node(new_data)\n",
    "    if position == 1:\n",
    "        new_node.next = head\n",
    "        return new_node\n",
    "    current = head\n",
    "    prev = None\n",
    "    count = 1\n",
    "    while current is not None and count < position:\n",
    "        prev = current\n",
    "        current = current.next\n",
    "        count += 1\n",
    "    prev.next = new_node\n",
    "    new_node.next = current\n",
    "    return head"
   ]
  },
  {
   "cell_type": "code",
   "execution_count": 57,
   "id": "cce6e864",
   "metadata": {},
   "outputs": [
    {
     "name": "stdout",
     "output_type": "stream",
     "text": [
      "head -> 700 -> 300 -> 255 -> 100 -> 72 -> 325 -> null\n"
     ]
    }
   ],
   "source": [
    "new_node = insert_at(1, 255, node1)\n",
    "new_node = insert_at(1, 300, new_node)\n",
    "new_node = insert_at(1, 700, new_node) #Position이 현재 리스트의 크기보다 크면 맨마지막에 new_data 를 삽입한다\n",
    "traverse_all(new_node)"
   ]
  },
  {
   "cell_type": "markdown",
   "id": "87123719",
   "metadata": {},
   "source": [
    "# Remove(key)"
   ]
  },
  {
   "cell_type": "code",
   "execution_count": 58,
   "id": "13d99fed",
   "metadata": {},
   "outputs": [],
   "source": [
    "def remove(key, head):\n",
    "    if head is None:\n",
    "        print(\"해당하는 원소가 없습니다.\")\n",
    "        return\n",
    "    if head.data == key:\n",
    "        head = head.next\n",
    "        return head\n",
    "    current = head\n",
    "    prev = None\n",
    "    while current is not None and current.data != key:\n",
    "        prev = current\n",
    "        current = current.next\n",
    "    if current is None:\n",
    "        print(f\"Error: {key}를 삭제합니다.\")\n",
    "        return\n",
    "    prev.next = current.next\n",
    "    return head"
   ]
  },
  {
   "cell_type": "code",
   "execution_count": 60,
   "id": "4e7e4a73",
   "metadata": {},
   "outputs": [
    {
     "name": "stdout",
     "output_type": "stream",
     "text": [
      "Error: 255를 삭제합니다.\n",
      "해당하는 원소가 없습니다.\n",
      "해당하는 원소가 없습니다.\n",
      "head -> null\n"
     ]
    }
   ],
   "source": [
    "new_node = remove(255, new_node)\n",
    "new_node = remove(300, new_node)\n",
    "new_node = remove(700, new_node) \n",
    "traverse_all(new_node)"
   ]
  }
 ],
 "metadata": {
  "kernelspec": {
   "display_name": "Python 3 (ipykernel)",
   "language": "python",
   "name": "python3"
  },
  "language_info": {
   "codemirror_mode": {
    "name": "ipython",
    "version": 3
   },
   "file_extension": ".py",
   "mimetype": "text/x-python",
   "name": "python",
   "nbconvert_exporter": "python",
   "pygments_lexer": "ipython3",
   "version": "3.10.9"
  },
  "toc": {
   "base_numbering": 1,
   "nav_menu": {},
   "number_sections": true,
   "sideBar": true,
   "skip_h1_title": false,
   "title_cell": "Table of Contents",
   "title_sidebar": "Contents",
   "toc_cell": false,
   "toc_position": {},
   "toc_section_display": true,
   "toc_window_display": false
  }
 },
 "nbformat": 4,
 "nbformat_minor": 5
}
